{
 "cells": [
  {
   "cell_type": "code",
   "execution_count": null,
   "metadata": {},
   "outputs": [],
   "source": [
    "#import the omniture library\n",
    "import omniture\n",
    "\n",
    "#import date from datetime\n",
    "from datetime import date, timedelta\n",
    "\n",
    "#import pandas\n",
    "import pandas as pd\n",
    "\n",
    "#authenticate via omniture\n",
    "analytics = omniture.authenticate('everard.rodney@corusent.com:Corus', '84cb270022f344ec2f1afbb424e52a73')\n",
    "\n",
    "#select the reporting suite\n",
    "suite = analytics.suites['corus-app-globalgo']\n",
    "print(suite)\n",
    "\n",
    "#select the segments\n",
    "segments='Non AMP and FBIA Pages'\n",
    "\n",
    "#Create a report queue\n",
    "queue = []\n",
    "report = suite.report \\\n",
    ".element('videoshow') \\\n",
    ".range('2020-01-01', '2020-01-31', granularity='day') \\\n",
    ".metric(['videostart', 'videotime']) \\\n",
    ".filter(segments)\n",
    "queue.append(report)\n",
    "\n",
    "heartbeat = lambda: sys.stdout.write('.')\n",
    "reports = omniture.sync(queue, heartbeat)\n",
    "\n",
    "#Print report data\n",
    "for report in reports:\n",
    "    print(report.segments)\n",
    "    print(report.data)\n",
    "\n",
    "#Get report data in CSV file\n",
    "data = report.data\n",
    "df = pd.DataFrame(data)\n",
    "df = df.drop('datetime_friendly', 1)\n",
    "df.to_csv('Programs.csv') "
   ]
  }
 ],
 "metadata": {
  "kernelspec": {
   "display_name": "Python 3",
   "language": "python",
   "name": "python3"
  },
  "language_info": {
   "codemirror_mode": {
    "name": "ipython",
    "version": 3
   },
   "file_extension": ".py",
   "mimetype": "text/x-python",
   "name": "python",
   "nbconvert_exporter": "python",
   "pygments_lexer": "ipython3",
   "version": "3.7.4"
  }
 },
 "nbformat": 4,
 "nbformat_minor": 2
}
